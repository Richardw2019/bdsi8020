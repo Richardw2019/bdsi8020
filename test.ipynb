{
 "cells": [
  {
   "cell_type": "code",
   "execution_count": 2,
   "metadata": {},
   "outputs": [],
   "source": [
    "import requests"
   ]
  },
  {
   "cell_type": "code",
   "execution_count": 3,
   "metadata": {},
   "outputs": [
    {
     "name": "stdout",
     "output_type": "stream",
     "text": [
      "{'pageSize': 25, 'pageNumber': 1, 'result': {'classType': 'searchResults', 'results': [{'ui': 'R68.83', 'rootSource': 'ICD10CM', 'uri': 'https://uts-ws.nlm.nih.gov/rest/content/2022AB/source/ICD10CM/R68.83', 'name': 'Chills (without fever)'}], 'recCount': 1}, 'partialSearch': 'https://uts-ws.nlm.nih.gov/rest/search/current?returnIdType=code&sabs[]=ICD10CM&string=chills%20without%20fever&partialSearch=true'}\n",
      "R68.83\n",
      "Chills (without fever)\n"
     ]
    }
   ],
   "source": [
    "API_KEY = 'f2577616-a7e0-45e4-a76c-c550a96d914a'\n",
    "base_url = 'https://uts-ws.nlm.nih.gov/rest'\n",
    "search_params = 'chills without fever'\n",
    "search_url = f'/search/current?string={search_params}&sabs=ICD10CM&returnIdType=code&apiKey={API_KEY}'\n",
    "api_call = base_url + search_url\n",
    "        \n",
    "\n",
    "uml_json = requests.get(api_call).json()\n",
    "\n",
    "print(uml_json)\n",
    "print(uml_json['result']['results'][0]['ui'])\n",
    "print(uml_json['result']['results'][0]['name'])\n"
   ]
  }
 ],
 "metadata": {
  "kernelspec": {
   "display_name": "base",
   "language": "python",
   "name": "python3"
  },
  "language_info": {
   "codemirror_mode": {
    "name": "ipython",
    "version": 3
   },
   "file_extension": ".py",
   "mimetype": "text/x-python",
   "name": "python",
   "nbconvert_exporter": "python",
   "pygments_lexer": "ipython3",
   "version": "3.9.7"
  },
  "orig_nbformat": 4,
  "vscode": {
   "interpreter": {
    "hash": "679a1984badd0030c8cf57aa16eaf908f4cc49be339b08b6392d0ee0b11ea137"
   }
  }
 },
 "nbformat": 4,
 "nbformat_minor": 2
}
