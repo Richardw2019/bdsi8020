{
 "cells": [
  {
   "cell_type": "code",
   "execution_count": 1,
   "metadata": {},
   "outputs": [],
   "source": [
    "import requests"
   ]
  },
  {
   "cell_type": "code",
   "execution_count": 4,
   "metadata": {},
   "outputs": [
    {
     "name": "stdout",
     "output_type": "stream",
     "text": [
      "<class 'list'>\n",
      "{'pageSize': 25, 'pageNumber': 1, 'result': {'classType': 'searchResults', 'results': [{'ui': '161', 'rootSource': 'RXNORM', 'uri': 'https://uts-ws.nlm.nih.gov/rest/content/2022AB/source/RXNORM/161', 'name': 'acetaminophen'}], 'recCount': 1}}\n"
     ]
    }
   ],
   "source": [
    "API_KEY = 'f2577616-a7e0-45e4-a76c-c550a96d914a'\n",
    "base_url = 'https://uts-ws.nlm.nih.gov/rest'\n",
    "search_params = 'acetaminophen'\n",
    "search_url = f'/search/current?string={search_params}&searchType=exact&returnIdType=code&sabs=RXNORM&apiKey={API_KEY}'\n",
    "api_call = base_url + search_url\n",
    "        \n",
    "\n",
    "uml_json = requests.get(api_call).json()\n",
    "\n",
    "#print(uml_json)\n",
    "#print(uml_json['result']['results'][1])\n",
    "# print(uml_json['result']['results'][1]['ui'])\n",
    "# print(uml_json['result']['results'][1]['name'])\n",
    "\n",
    "print(type(uml_json['result']['results']))\n",
    "\n",
    "for x in uml_json['result']['results']:\n",
    "   # print(x['ui'])\n",
    "    if 'MTHU' in x['ui']:\n",
    "        uml_json['result']['results'].remove(x)\n",
    "    \n",
    "\n",
    "\n",
    "\n",
    "print(uml_json)\n",
    "\n"
   ]
  },
  {
   "cell_type": "code",
   "execution_count": null,
   "metadata": {},
   "outputs": [],
   "source": [
    "28376-2\n"
   ]
  }
 ],
 "metadata": {
  "kernelspec": {
   "display_name": "base",
   "language": "python",
   "name": "python3"
  },
  "language_info": {
   "codemirror_mode": {
    "name": "ipython",
    "version": 3
   },
   "file_extension": ".py",
   "mimetype": "text/x-python",
   "name": "python",
   "nbconvert_exporter": "python",
   "pygments_lexer": "ipython3",
   "version": "3.9.7"
  },
  "orig_nbformat": 4,
  "vscode": {
   "interpreter": {
    "hash": "679a1984badd0030c8cf57aa16eaf908f4cc49be339b08b6392d0ee0b11ea137"
   }
  }
 },
 "nbformat": 4,
 "nbformat_minor": 2
}
